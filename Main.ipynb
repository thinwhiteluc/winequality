{
 "cells": [
  {
   "cell_type": "markdown",
   "metadata": {},
   "source": [
    "# WineQuality\n",
    "_Ver. 20.06.2018.15.28_ <br> <br>\n",
    "_Lucas Eduardo Cassan Alamino 201601821_ <br>\n",
    "_Matheus_"
   ]
  },
  {
   "cell_type": "markdown",
   "metadata": {},
   "source": [
    "### 1. Inspecione os dados"
   ]
  },
  {
   "cell_type": "code",
   "execution_count": 202,
   "metadata": {},
   "outputs": [],
   "source": [
    "#Bibliotecas\n",
    "import numpy as np\n",
    "import pandas as pd\n",
    "\n",
    "#Importação\n",
    "data_train = pd.read_csv('data\\wineQuality_train.data', sep = \",\")\n",
    "data_val= pd.read_csv('data\\wineQuality_val.data',   sep = \",\")\n",
    "\n",
    "#Seleção de Dados\n",
    "n_test = 300\n",
    "data_train = data_train[:n_test]\n",
    "data_val   = data_val[:n_test]\n",
    "\n",
    "#Separacao de Feature e targets\n",
    "Y_train = np.array( data_train['quality'])\n",
    "Y_val   = np.array( data_val['quality'])\n",
    "\n",
    "X_train = data_train.drop('quality', 1)\n",
    "X_val   = data_val.drop('quality', 1)"
   ]
  },
  {
   "cell_type": "markdown",
   "metadata": {},
   "source": [
    "\n",
    "### 2. Normalização"
   ]
  },
  {
   "cell_type": "markdown",
   "metadata": {},
   "source": [
    "from sklearn.preprocessing import MaxAbsScaler\n",
    "p=MaxAbsScaler()\n",
    "p.fit(X_train) \n",
    "X_train = (p.transform(X_train))"
   ]
  },
  {
   "cell_type": "markdown",
   "metadata": {},
   "source": [
    "from sklearn.preprocessing import MaxAbsScaler\n",
    "p=MaxAbsScaler()\n",
    "p.fit(X_val) \n",
    "X_val = (p.transform(X_val))"
   ]
  },
  {
   "cell_type": "code",
   "execution_count": 232,
   "metadata": {},
   "outputs": [
    {
     "ename": "NameError",
     "evalue": "name 'dataset_encoded' is not defined",
     "output_type": "error",
     "traceback": [
      "\u001b[1;31m---------------------------------------------------------------------------\u001b[0m",
      "\u001b[1;31mNameError\u001b[0m                                 Traceback (most recent call last)",
      "\u001b[1;32m<ipython-input-232-8c50f90efb12>\u001b[0m in \u001b[0;36m<module>\u001b[1;34m()\u001b[0m\n\u001b[1;32m----> 1\u001b[1;33m \u001b[0mdata_val\u001b[0m \u001b[1;33m=\u001b[0m \u001b[0mdataset_encoded\u001b[0m\u001b[1;33m.\u001b[0m\u001b[0miloc\u001b[0m\u001b[1;33m[\u001b[0m\u001b[1;33m:\u001b[0m\u001b[0mn_test\u001b[0m\u001b[1;33m,\u001b[0m \u001b[1;33m:\u001b[0m\u001b[1;33m]\u001b[0m\u001b[1;33m.\u001b[0m\u001b[0mreset_index\u001b[0m\u001b[1;33m(\u001b[0m\u001b[0mdrop\u001b[0m\u001b[1;33m=\u001b[0m\u001b[1;32mTrue\u001b[0m\u001b[1;33m)\u001b[0m\u001b[1;33m\u001b[0m\u001b[0m\n\u001b[0m\u001b[0;32m      2\u001b[0m \u001b[0mdata_train\u001b[0m \u001b[1;33m=\u001b[0m \u001b[0mdataset_encoded\u001b[0m\u001b[1;33m.\u001b[0m\u001b[0miloc\u001b[0m\u001b[1;33m[\u001b[0m\u001b[0mn_test\u001b[0m\u001b[1;33m:\u001b[0m\u001b[1;33m,\u001b[0m \u001b[1;33m:\u001b[0m\u001b[1;33m]\u001b[0m\u001b[1;33m.\u001b[0m\u001b[0mreset_index\u001b[0m\u001b[1;33m(\u001b[0m\u001b[0mdrop\u001b[0m\u001b[1;33m=\u001b[0m\u001b[1;32mTrue\u001b[0m\u001b[1;33m)\u001b[0m\u001b[1;33m\u001b[0m\u001b[0m\n\u001b[0;32m      3\u001b[0m \u001b[1;33m\u001b[0m\u001b[0m\n\u001b[0;32m      4\u001b[0m \u001b[0mX_train\u001b[0m \u001b[1;33m=\u001b[0m \u001b[0mdata_train\u001b[0m\u001b[1;33m.\u001b[0m\u001b[0miloc\u001b[0m\u001b[1;33m[\u001b[0m\u001b[1;33m:\u001b[0m\u001b[1;33m,\u001b[0m \u001b[1;33m:\u001b[0m\u001b[1;33m-\u001b[0m\u001b[1;36m1\u001b[0m\u001b[1;33m]\u001b[0m\u001b[1;33m\u001b[0m\u001b[0m\n\u001b[0;32m      5\u001b[0m \u001b[0mY_train\u001b[0m \u001b[1;33m=\u001b[0m \u001b[0mdata_train\u001b[0m\u001b[1;33m.\u001b[0m\u001b[0miloc\u001b[0m\u001b[1;33m[\u001b[0m\u001b[1;33m:\u001b[0m\u001b[1;33m,\u001b[0m \u001b[1;33m-\u001b[0m\u001b[1;36m1\u001b[0m\u001b[1;33m:\u001b[0m\u001b[1;33m]\u001b[0m\u001b[1;33m\u001b[0m\u001b[0m\n",
      "\u001b[1;31mNameError\u001b[0m: name 'dataset_encoded' is not defined"
     ]
    }
   ],
   "source": [
    "data_val = dataset_encoded.iloc[:n_test, :].reset_index(drop=True)\n",
    "data_train = c.iloc[n_test:, :].reset_index(drop=True)\n",
    "\n",
    "X_train = data_train.iloc[:, :-1]\n",
    "Y_train = data_train.iloc[:, -1:]\n",
    "scaler_x = StandardScaler().fit(X_train)\n",
    "scaler_y = StandardScaler().fit(Y_train)\n",
    "\n",
    "X_test = data_val.iloc[:, :-1]\n",
    "Y_test = data_val.iloc[:, -1:]\n",
    "\n",
    "clean_X_train = scaler_x.transform(X_train)\n",
    "clean_Y_train = scaler_y.transform(Y_train)\n",
    "\n",
    "clean_X_test = scaler_x.transform(X_test)\n",
    "clean_Y_test = scaler_y.transform(Y_test)\n",
    "\n",
    "XY_train = np.concatenate((clean_X_train, clean_Y_train), axis=1)\n",
    "XY_test = np.concatenate((clean_X_test, clean_Y_test), axis=1) # we will not touch this until the end\n"
   ]
  },
  {
   "cell_type": "markdown",
   "metadata": {},
   "source": [
    "### 3. Treine uma SVM"
   ]
  },
  {
   "cell_type": "code",
   "execution_count": 228,
   "metadata": {},
   "outputs": [
    {
     "name": "stdout",
     "output_type": "stream",
     "text": [
      "[1 1 1 1 1 0 1 1 1 1 1 1 1 0 0 1 0 1 1 1 1 1 0 1 0 0 1 1 0 0 1 1 1 1 1 1 1\n",
      " 1 0 0 1 1 0 1 1 0 0 1 1 0 1 1 1 1 1 1 1 0 1 1 0 1 0 1 1 1 0 1 1 1 1 1 1 0\n",
      " 1 1 1 1 0 0 1 1 0 0 0 1 1 0 0 1 1 1 1 1 0 0 1 1 1 0 1 1 0 1 1 0 0 1 1 1 0\n",
      " 1 1 1 1 1 1 1 1 0 1 1 1 1 1 1 1 0 1 1 0 1 1 1 0 1 1 1 0 1 1 1 0 1 1 0 1 1\n",
      " 1 1 1 0 1 0 1 0 1 1 1 1 0 0 1 0 1 0 1 1 0 1 1 1 1 1 0 0 1 1 1 1 0 1 0 0 0\n",
      " 0 0 1 1 0 1 1 0 0 0 1 0 1 1 1]\n",
      "[ 0.63352401  0.05598097  0.42200477  0.11499051  0.31129072  0.19750753\n",
      "  0.13936832  0.37410931  0.36206604  0.57773959  0.83485865  0.15430204\n",
      "  0.48593747  0.03342002  0.14832736  0.41527884  0.42250816  0.51804589\n",
      "  0.31011251  0.45304303  0.69255246  0.02869986  0.31979272  0.76862172\n",
      "  0.12302934  0.27398188  0.27435236  0.33745236 -0.11186256 -0.0364034\n",
      "  0.59071225  0.53073146  0.50578853  0.62712872  0.40479784 -0.03345814\n",
      "  0.40218544  0.08379697  0.38509092  0.21234475  0.12067396  0.21926455\n",
      "  0.08772214  0.07836911  0.52282167  0.21678221  0.20839067  0.28557366\n",
      "  1.1273731   0.14803527  0.84195627  0.61909766  0.18393529  0.48854384\n",
      "  0.57600405  0.05251648  0.33964028  0.0137504   0.40141497  0.10603405\n",
      "  0.18410239  0.65894752  0.06644504  0.86371445  0.80271331  0.33366388\n",
      " -0.04111236  0.30961449  0.68541292  0.4106437   0.44215212  0.2625914\n",
      "  0.52660904  0.63550896  0.30020681  0.25814854  0.70825982  0.26206141\n",
      "  0.46015561 -0.06611797  0.09663967  0.08113394  0.24062117  0.46777058\n",
      "  0.08165163  0.31180123  0.47958988  0.20792667  0.40989199  0.63449135\n",
      "  0.44438699  0.59792518  0.24709291  0.37203832 -0.04967421 -0.03367715\n",
      "  0.59433085  0.51375619  0.40996486  0.41411413  0.46095239  0.34456257\n",
      "  0.00438238  0.0812731   0.69745801  0.06757813 -0.15300519  0.22543615\n",
      "  0.81015805  0.32769463  0.26977854  0.3656605   0.68202613  0.86121598\n",
      "  0.55540882  0.69745801  0.2394077   0.1334404   0.19486888  0.43294365\n",
      "  0.27162341  0.44932628  0.31595655  0.15598731  0.19240375  0.37964118\n",
      "  0.47838183  0.1334563   0.51404935  1.21577037 -0.24995294  0.24680011\n",
      "  0.74061976  0.75367233  0.0362724   0.08379697  0.82973969  0.01492419\n",
      "  0.30327125  0.37761257  0.10178885  0.26764459  0.21530293  0.67018181\n",
      "  0.23443025  0.02578579  0.40142266  0.29198337  0.75824897  0.39597031\n",
      "  0.84697308  0.17013914  0.41561334  0.2354684   0.65205381  0.5183714\n",
      "  0.2945192   0.71595405  0.72996259  0.21658201 -0.1108023  -0.07607263\n",
      " -0.05222947 -0.00805931  0.39687493 -0.06712823  0.62123133  0.08563725\n",
      " -0.0235808   0.47183361  0.39707331  0.25183919  0.48867299  0.25749865\n",
      "  0.58653628  0.30507345 -0.03756834  0.52068338  0.39819794  0.27235539\n",
      "  0.11659175  0.75928389  0.3171113   0.16749774  0.46792695  0.18055359\n",
      "  0.24861581  0.49244051  0.64850077  0.44353319  0.59826374  0.65479242\n",
      "  0.41558164  0.17637238  0.39814118 -0.00639636  0.16834303  0.57154443\n",
      "  0.0543329   0.7811535 ]\n"
     ]
    }
   ],
   "source": [
    "import matplotlib.pyplot as plt\n",
    "from sklearn import datasets, linear_model\n",
    "from sklearn.metrics import mean_squared_error, r2_score\n",
    "\n",
    "regr = linear_model.LinearRegression()\n",
    "\n",
    "regr.fit(X_train, Y_train)\n",
    "\n",
    "Y_pred = regr.predict(X_val)\n",
    "\n",
    "\n",
    "print(Y_val)\n",
    "print(Y_pred)"
   ]
  },
  {
   "cell_type": "code",
   "execution_count": null,
   "metadata": {},
   "outputs": [],
   "source": []
  },
  {
   "cell_type": "markdown",
   "metadata": {},
   "source": [
    "### 4. Classifique os Dados de Validação"
   ]
  },
  {
   "cell_type": "code",
   "execution_count": null,
   "metadata": {},
   "outputs": [],
   "source": []
  },
  {
   "cell_type": "markdown",
   "metadata": {},
   "source": [
    "### 5. Matriz de Confusão e Acurácia"
   ]
  },
  {
   "cell_type": "code",
   "execution_count": null,
   "metadata": {},
   "outputs": [],
   "source": [
    "def plot_confusion_matrix(cm, classes,\n",
    "                          normalize=False,\n",
    "                          title='Matriz de Confusão',\n",
    "                          cmap=plt.cm.Blues):\n",
    "    if normalize:\n",
    "        cm = cm.astype('float') / cm.sum(axis=1)[:, np.newaxis]\n",
    "    \n",
    "    print(title)\n",
    "    print(cm)\n",
    "\n",
    "    plt.imshow(cm, interpolation='nearest', cmap=cmap)\n",
    "    plt.title(title)\n",
    "    plt.colorbar()\n",
    "    tick_marks = np.arange(len(classes))\n",
    "    plt.xticks(tick_marks, classes, rotation=45)\n",
    "    plt.yticks(tick_marks, classes)\n",
    "\n",
    "    fmt = '.2f' if normalize else 'd'\n",
    "    thresh = cm.max() / 2.\n",
    "    for i, j in itertools.product(range(cm.shape[0]), range(cm.shape[1])):\n",
    "        plt.text(j, i, format(cm[i, j], fmt),\n",
    "                 horizontalalignment=\"center\",\n",
    "                 color=\"white\" if cm[i, j] > thresh else \"black\")\n",
    "\n",
    "    plt.tight_layout()\n",
    "    plt.ylabel('Verdadeiro')\n",
    "    plt.xlabel('Predito')"
   ]
  },
  {
   "cell_type": "code",
   "execution_count": null,
   "metadata": {},
   "outputs": [],
   "source": [
    "cnf_matrix = confusion_matrix(Y_val, Y_pred)\n",
    "np.set_printoptions(precision=2)"
   ]
  },
  {
   "cell_type": "code",
   "execution_count": null,
   "metadata": {},
   "outputs": [],
   "source": [
    "title  =  'Matriz de confusão (em quantidade de elementos)' \n",
    "\n",
    "plt.figure()\n",
    "plot_confusion_matrix(cnf_matrix, classes=['Ruim', 'Bom'], title=title)"
   ]
  },
  {
   "cell_type": "code",
   "execution_count": null,
   "metadata": {},
   "outputs": [],
   "source": [
    "title = 'Matriz de confusão (em %)'\n",
    "\n",
    "plt.figure()\n",
    "plot_confusion_matrix(cnf_matrix, classes=['Ruim', 'Bom'], title=title, normalize=True)"
   ]
  },
  {
   "cell_type": "code",
   "execution_count": null,
   "metadata": {},
   "outputs": [],
   "source": [
    "from sklearn.metrics import accuracy_score, recall_score\n",
    "\n",
    "print('Classificações corretas =', accuracy_score(Y_val, Y_pred, normalize=False))\n",
    "print('Acurácia =', accuracy_score(Y_val, Y_pred))\n",
    "print('Acurácia normalizada =', recall_score(Y_val, Y_pred, average='macro'))"
   ]
  },
  {
   "cell_type": "code",
   "execution_count": null,
   "metadata": {},
   "outputs": [],
   "source": []
  },
  {
   "cell_type": "code",
   "execution_count": null,
   "metadata": {},
   "outputs": [],
   "source": []
  },
  {
   "cell_type": "code",
   "execution_count": 198,
   "metadata": {},
   "outputs": [],
   "source": [
    "#Treinamento\n",
    "classifier = svm.SVC(kernel='linear', C=0.01)\n",
    "Y_pred = classifier.fit(X_train, Y_train).predict(X_val)"
   ]
  },
  {
   "cell_type": "code",
   "execution_count": 196,
   "metadata": {},
   "outputs": [],
   "source": [
    "import matplotlib.pyplot as plt\n",
    "import itertools\n",
    "\n",
    "from sklearn import svm\n",
    "from sklearn.metrics import roc_curve, auc\n",
    "from sklearn.model_selection import train_test_split\n",
    "from sklearn.metrics import confusion_matrix\n",
    "from scipy import interp"
   ]
  }
 ],
 "metadata": {
  "kernelspec": {
   "display_name": "Python 3",
   "language": "python",
   "name": "python3"
  },
  "language_info": {
   "codemirror_mode": {
    "name": "ipython",
    "version": 3
   },
   "file_extension": ".py",
   "mimetype": "text/x-python",
   "name": "python",
   "nbconvert_exporter": "python",
   "pygments_lexer": "ipython3",
   "version": "3.6.5"
  }
 },
 "nbformat": 4,
 "nbformat_minor": 2
}
